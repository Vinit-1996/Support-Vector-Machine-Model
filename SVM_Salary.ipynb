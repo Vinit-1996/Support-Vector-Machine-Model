{
  "nbformat": 4,
  "nbformat_minor": 0,
  "metadata": {
    "colab": {
      "name": "SVM_Salary.ipynb",
      "provenance": []
    },
    "kernelspec": {
      "name": "python3",
      "display_name": "Python 3"
    },
    "language_info": {
      "name": "python"
    }
  },
  "cells": [
    {
      "cell_type": "markdown",
      "metadata": {
        "id": "UMYlFSf-fz0M"
      },
      "source": [
        "## Prepare a classification model using SVM for salary data "
      ]
    },
    {
      "cell_type": "code",
      "metadata": {
        "id": "6n6SVo1Sf2Km"
      },
      "source": [
        "import numpy as np\n",
        "import pandas as pd\n",
        "import matplotlib.pyplot as plt\n",
        "import seaborn as sns\n",
        "from sklearn.model_selection import train_test_split\n",
        "from sklearn.preprocessing import LabelEncoder,MinMaxScaler\n",
        "from sklearn.metrics import accuracy_score, confusion_matrix\n",
        "from sklearn.svm import SVC"
      ],
      "execution_count": 69,
      "outputs": []
    },
    {
      "cell_type": "code",
      "metadata": {
        "id": "LI0HYMIahm6u"
      },
      "source": [
        "train_data=pd.read_csv(\"/content/SalaryData_Train(1).csv\")\n",
        "test_data=pd.read_csv(\"/content/SalaryData_Test(1).csv\")"
      ],
      "execution_count": 70,
      "outputs": []
    },
    {
      "cell_type": "code",
      "metadata": {
        "colab": {
          "base_uri": "https://localhost:8080/",
          "height": 202
        },
        "id": "w67-s_aDh4lt",
        "outputId": "5d3942e0-c3e9-4db5-9e4d-a0111d739c33"
      },
      "source": [
        "train_data.head()"
      ],
      "execution_count": 71,
      "outputs": [
        {
          "output_type": "execute_result",
          "data": {
            "text/html": [
              "<div>\n",
              "<style scoped>\n",
              "    .dataframe tbody tr th:only-of-type {\n",
              "        vertical-align: middle;\n",
              "    }\n",
              "\n",
              "    .dataframe tbody tr th {\n",
              "        vertical-align: top;\n",
              "    }\n",
              "\n",
              "    .dataframe thead th {\n",
              "        text-align: right;\n",
              "    }\n",
              "</style>\n",
              "<table border=\"1\" class=\"dataframe\">\n",
              "  <thead>\n",
              "    <tr style=\"text-align: right;\">\n",
              "      <th></th>\n",
              "      <th>age</th>\n",
              "      <th>workclass</th>\n",
              "      <th>education</th>\n",
              "      <th>educationno</th>\n",
              "      <th>maritalstatus</th>\n",
              "      <th>occupation</th>\n",
              "      <th>relationship</th>\n",
              "      <th>race</th>\n",
              "      <th>sex</th>\n",
              "      <th>capitalgain</th>\n",
              "      <th>capitalloss</th>\n",
              "      <th>hoursperweek</th>\n",
              "      <th>native</th>\n",
              "      <th>Salary</th>\n",
              "    </tr>\n",
              "  </thead>\n",
              "  <tbody>\n",
              "    <tr>\n",
              "      <th>0</th>\n",
              "      <td>39</td>\n",
              "      <td>State-gov</td>\n",
              "      <td>Bachelors</td>\n",
              "      <td>13</td>\n",
              "      <td>Never-married</td>\n",
              "      <td>Adm-clerical</td>\n",
              "      <td>Not-in-family</td>\n",
              "      <td>White</td>\n",
              "      <td>Male</td>\n",
              "      <td>2174</td>\n",
              "      <td>0</td>\n",
              "      <td>40</td>\n",
              "      <td>United-States</td>\n",
              "      <td>&lt;=50K</td>\n",
              "    </tr>\n",
              "    <tr>\n",
              "      <th>1</th>\n",
              "      <td>50</td>\n",
              "      <td>Self-emp-not-inc</td>\n",
              "      <td>Bachelors</td>\n",
              "      <td>13</td>\n",
              "      <td>Married-civ-spouse</td>\n",
              "      <td>Exec-managerial</td>\n",
              "      <td>Husband</td>\n",
              "      <td>White</td>\n",
              "      <td>Male</td>\n",
              "      <td>0</td>\n",
              "      <td>0</td>\n",
              "      <td>13</td>\n",
              "      <td>United-States</td>\n",
              "      <td>&lt;=50K</td>\n",
              "    </tr>\n",
              "    <tr>\n",
              "      <th>2</th>\n",
              "      <td>38</td>\n",
              "      <td>Private</td>\n",
              "      <td>HS-grad</td>\n",
              "      <td>9</td>\n",
              "      <td>Divorced</td>\n",
              "      <td>Handlers-cleaners</td>\n",
              "      <td>Not-in-family</td>\n",
              "      <td>White</td>\n",
              "      <td>Male</td>\n",
              "      <td>0</td>\n",
              "      <td>0</td>\n",
              "      <td>40</td>\n",
              "      <td>United-States</td>\n",
              "      <td>&lt;=50K</td>\n",
              "    </tr>\n",
              "    <tr>\n",
              "      <th>3</th>\n",
              "      <td>53</td>\n",
              "      <td>Private</td>\n",
              "      <td>11th</td>\n",
              "      <td>7</td>\n",
              "      <td>Married-civ-spouse</td>\n",
              "      <td>Handlers-cleaners</td>\n",
              "      <td>Husband</td>\n",
              "      <td>Black</td>\n",
              "      <td>Male</td>\n",
              "      <td>0</td>\n",
              "      <td>0</td>\n",
              "      <td>40</td>\n",
              "      <td>United-States</td>\n",
              "      <td>&lt;=50K</td>\n",
              "    </tr>\n",
              "    <tr>\n",
              "      <th>4</th>\n",
              "      <td>28</td>\n",
              "      <td>Private</td>\n",
              "      <td>Bachelors</td>\n",
              "      <td>13</td>\n",
              "      <td>Married-civ-spouse</td>\n",
              "      <td>Prof-specialty</td>\n",
              "      <td>Wife</td>\n",
              "      <td>Black</td>\n",
              "      <td>Female</td>\n",
              "      <td>0</td>\n",
              "      <td>0</td>\n",
              "      <td>40</td>\n",
              "      <td>Cuba</td>\n",
              "      <td>&lt;=50K</td>\n",
              "    </tr>\n",
              "  </tbody>\n",
              "</table>\n",
              "</div>"
            ],
            "text/plain": [
              "   age          workclass   education  ...  hoursperweek          native  Salary\n",
              "0   39          State-gov   Bachelors  ...            40   United-States   <=50K\n",
              "1   50   Self-emp-not-inc   Bachelors  ...            13   United-States   <=50K\n",
              "2   38            Private     HS-grad  ...            40   United-States   <=50K\n",
              "3   53            Private        11th  ...            40   United-States   <=50K\n",
              "4   28            Private   Bachelors  ...            40            Cuba   <=50K\n",
              "\n",
              "[5 rows x 14 columns]"
            ]
          },
          "metadata": {},
          "execution_count": 71
        }
      ]
    },
    {
      "cell_type": "code",
      "metadata": {
        "colab": {
          "base_uri": "https://localhost:8080/"
        },
        "id": "h5KRdu89h7OS",
        "outputId": "fdd18b1b-6fee-455a-9080-1a596ec2e77f"
      },
      "source": [
        "train_data.shape"
      ],
      "execution_count": 72,
      "outputs": [
        {
          "output_type": "execute_result",
          "data": {
            "text/plain": [
              "(30161, 14)"
            ]
          },
          "metadata": {},
          "execution_count": 72
        }
      ]
    },
    {
      "cell_type": "code",
      "metadata": {
        "colab": {
          "base_uri": "https://localhost:8080/"
        },
        "id": "gONFR3nViA7h",
        "outputId": "7e9cec36-28f9-4d90-9d67-0d9dc38e0b7a"
      },
      "source": [
        "train_data.info()"
      ],
      "execution_count": 73,
      "outputs": [
        {
          "output_type": "stream",
          "name": "stdout",
          "text": [
            "<class 'pandas.core.frame.DataFrame'>\n",
            "RangeIndex: 30161 entries, 0 to 30160\n",
            "Data columns (total 14 columns):\n",
            " #   Column         Non-Null Count  Dtype \n",
            "---  ------         --------------  ----- \n",
            " 0   age            30161 non-null  int64 \n",
            " 1   workclass      30161 non-null  object\n",
            " 2   education      30161 non-null  object\n",
            " 3   educationno    30161 non-null  int64 \n",
            " 4   maritalstatus  30161 non-null  object\n",
            " 5   occupation     30161 non-null  object\n",
            " 6   relationship   30161 non-null  object\n",
            " 7   race           30161 non-null  object\n",
            " 8   sex            30161 non-null  object\n",
            " 9   capitalgain    30161 non-null  int64 \n",
            " 10  capitalloss    30161 non-null  int64 \n",
            " 11  hoursperweek   30161 non-null  int64 \n",
            " 12  native         30161 non-null  object\n",
            " 13  Salary         30161 non-null  object\n",
            "dtypes: int64(5), object(9)\n",
            "memory usage: 3.2+ MB\n"
          ]
        }
      ]
    },
    {
      "cell_type": "code",
      "metadata": {
        "colab": {
          "base_uri": "https://localhost:8080/"
        },
        "id": "Ap7CX6LKiDs_",
        "outputId": "fe9f9e96-ce03-48fc-fafc-b48e51625382"
      },
      "source": [
        "train_data.columns"
      ],
      "execution_count": 74,
      "outputs": [
        {
          "output_type": "execute_result",
          "data": {
            "text/plain": [
              "Index(['age', 'workclass', 'education', 'educationno', 'maritalstatus',\n",
              "       'occupation', 'relationship', 'race', 'sex', 'capitalgain',\n",
              "       'capitalloss', 'hoursperweek', 'native', 'Salary'],\n",
              "      dtype='object')"
            ]
          },
          "metadata": {},
          "execution_count": 74
        }
      ]
    },
    {
      "cell_type": "code",
      "metadata": {
        "id": "UV84TgqhiZSS"
      },
      "source": [
        "colum_data= list(train_data.columns[(train_data.dtypes=='object')][0:-1])"
      ],
      "execution_count": 75,
      "outputs": []
    },
    {
      "cell_type": "code",
      "metadata": {
        "colab": {
          "base_uri": "https://localhost:8080/"
        },
        "id": "DxF-dNCGiij-",
        "outputId": "c121b523-c722-4d21-dc48-955e31d5a9fe"
      },
      "source": [
        "colum_data"
      ],
      "execution_count": 76,
      "outputs": [
        {
          "output_type": "execute_result",
          "data": {
            "text/plain": [
              "['workclass',\n",
              " 'education',\n",
              " 'maritalstatus',\n",
              " 'occupation',\n",
              " 'relationship',\n",
              " 'race',\n",
              " 'sex',\n",
              " 'native']"
            ]
          },
          "metadata": {},
          "execution_count": 76
        }
      ]
    },
    {
      "cell_type": "code",
      "metadata": {
        "id": "DjgBmWtfjmtA"
      },
      "source": [
        "LE=LabelEncoder()"
      ],
      "execution_count": 77,
      "outputs": []
    },
    {
      "cell_type": "code",
      "metadata": {
        "id": "nZquir_RjscE"
      },
      "source": [
        "for i in colum_data:\n",
        "  train_data[i]=LE.fit_transform(train_data[i])\n",
        "  test_data[i]=LE.fit_transform(test_data[i])"
      ],
      "execution_count": 78,
      "outputs": []
    },
    {
      "cell_type": "code",
      "metadata": {
        "colab": {
          "base_uri": "https://localhost:8080/",
          "height": 110
        },
        "id": "N3Vk2yzEj-zF",
        "outputId": "9f33359f-e0b9-4344-8a0b-b03519371f79"
      },
      "source": [
        "train_data.head(2)"
      ],
      "execution_count": 79,
      "outputs": [
        {
          "output_type": "execute_result",
          "data": {
            "text/html": [
              "<div>\n",
              "<style scoped>\n",
              "    .dataframe tbody tr th:only-of-type {\n",
              "        vertical-align: middle;\n",
              "    }\n",
              "\n",
              "    .dataframe tbody tr th {\n",
              "        vertical-align: top;\n",
              "    }\n",
              "\n",
              "    .dataframe thead th {\n",
              "        text-align: right;\n",
              "    }\n",
              "</style>\n",
              "<table border=\"1\" class=\"dataframe\">\n",
              "  <thead>\n",
              "    <tr style=\"text-align: right;\">\n",
              "      <th></th>\n",
              "      <th>age</th>\n",
              "      <th>workclass</th>\n",
              "      <th>education</th>\n",
              "      <th>educationno</th>\n",
              "      <th>maritalstatus</th>\n",
              "      <th>occupation</th>\n",
              "      <th>relationship</th>\n",
              "      <th>race</th>\n",
              "      <th>sex</th>\n",
              "      <th>capitalgain</th>\n",
              "      <th>capitalloss</th>\n",
              "      <th>hoursperweek</th>\n",
              "      <th>native</th>\n",
              "      <th>Salary</th>\n",
              "    </tr>\n",
              "  </thead>\n",
              "  <tbody>\n",
              "    <tr>\n",
              "      <th>0</th>\n",
              "      <td>39</td>\n",
              "      <td>5</td>\n",
              "      <td>9</td>\n",
              "      <td>13</td>\n",
              "      <td>4</td>\n",
              "      <td>0</td>\n",
              "      <td>1</td>\n",
              "      <td>4</td>\n",
              "      <td>1</td>\n",
              "      <td>2174</td>\n",
              "      <td>0</td>\n",
              "      <td>40</td>\n",
              "      <td>37</td>\n",
              "      <td>&lt;=50K</td>\n",
              "    </tr>\n",
              "    <tr>\n",
              "      <th>1</th>\n",
              "      <td>50</td>\n",
              "      <td>4</td>\n",
              "      <td>9</td>\n",
              "      <td>13</td>\n",
              "      <td>2</td>\n",
              "      <td>3</td>\n",
              "      <td>0</td>\n",
              "      <td>4</td>\n",
              "      <td>1</td>\n",
              "      <td>0</td>\n",
              "      <td>0</td>\n",
              "      <td>13</td>\n",
              "      <td>37</td>\n",
              "      <td>&lt;=50K</td>\n",
              "    </tr>\n",
              "  </tbody>\n",
              "</table>\n",
              "</div>"
            ],
            "text/plain": [
              "   age  workclass  education  ...  hoursperweek  native  Salary\n",
              "0   39          5          9  ...            40      37   <=50K\n",
              "1   50          4          9  ...            13      37   <=50K\n",
              "\n",
              "[2 rows x 14 columns]"
            ]
          },
          "metadata": {},
          "execution_count": 79
        }
      ]
    },
    {
      "cell_type": "code",
      "metadata": {
        "colab": {
          "base_uri": "https://localhost:8080/",
          "height": 110
        },
        "id": "WaINeHZNkFxz",
        "outputId": "a516c42e-e890-4398-b818-11e79f94f7af"
      },
      "source": [
        "test_data.head(2)"
      ],
      "execution_count": 80,
      "outputs": [
        {
          "output_type": "execute_result",
          "data": {
            "text/html": [
              "<div>\n",
              "<style scoped>\n",
              "    .dataframe tbody tr th:only-of-type {\n",
              "        vertical-align: middle;\n",
              "    }\n",
              "\n",
              "    .dataframe tbody tr th {\n",
              "        vertical-align: top;\n",
              "    }\n",
              "\n",
              "    .dataframe thead th {\n",
              "        text-align: right;\n",
              "    }\n",
              "</style>\n",
              "<table border=\"1\" class=\"dataframe\">\n",
              "  <thead>\n",
              "    <tr style=\"text-align: right;\">\n",
              "      <th></th>\n",
              "      <th>age</th>\n",
              "      <th>workclass</th>\n",
              "      <th>education</th>\n",
              "      <th>educationno</th>\n",
              "      <th>maritalstatus</th>\n",
              "      <th>occupation</th>\n",
              "      <th>relationship</th>\n",
              "      <th>race</th>\n",
              "      <th>sex</th>\n",
              "      <th>capitalgain</th>\n",
              "      <th>capitalloss</th>\n",
              "      <th>hoursperweek</th>\n",
              "      <th>native</th>\n",
              "      <th>Salary</th>\n",
              "    </tr>\n",
              "  </thead>\n",
              "  <tbody>\n",
              "    <tr>\n",
              "      <th>0</th>\n",
              "      <td>25</td>\n",
              "      <td>2</td>\n",
              "      <td>1</td>\n",
              "      <td>7</td>\n",
              "      <td>4</td>\n",
              "      <td>6</td>\n",
              "      <td>3</td>\n",
              "      <td>2</td>\n",
              "      <td>1</td>\n",
              "      <td>0</td>\n",
              "      <td>0</td>\n",
              "      <td>40</td>\n",
              "      <td>37</td>\n",
              "      <td>&lt;=50K</td>\n",
              "    </tr>\n",
              "    <tr>\n",
              "      <th>1</th>\n",
              "      <td>38</td>\n",
              "      <td>2</td>\n",
              "      <td>11</td>\n",
              "      <td>9</td>\n",
              "      <td>2</td>\n",
              "      <td>4</td>\n",
              "      <td>0</td>\n",
              "      <td>4</td>\n",
              "      <td>1</td>\n",
              "      <td>0</td>\n",
              "      <td>0</td>\n",
              "      <td>50</td>\n",
              "      <td>37</td>\n",
              "      <td>&lt;=50K</td>\n",
              "    </tr>\n",
              "  </tbody>\n",
              "</table>\n",
              "</div>"
            ],
            "text/plain": [
              "   age  workclass  education  ...  hoursperweek  native  Salary\n",
              "0   25          2          1  ...            40      37   <=50K\n",
              "1   38          2         11  ...            50      37   <=50K\n",
              "\n",
              "[2 rows x 14 columns]"
            ]
          },
          "metadata": {},
          "execution_count": 80
        }
      ]
    },
    {
      "cell_type": "code",
      "metadata": {
        "id": "kPBSs7RHsQhe"
      },
      "source": [
        "mapping = {' >50K': 1, ' <=50K': 2}"
      ],
      "execution_count": 82,
      "outputs": []
    },
    {
      "cell_type": "code",
      "metadata": {
        "id": "CoZaZR5SstYS"
      },
      "source": [
        "train_data = train_data.replace({'Salary': mapping})\n",
        "test_data = test_data.replace({'Salary': mapping})"
      ],
      "execution_count": 83,
      "outputs": []
    },
    {
      "cell_type": "code",
      "metadata": {
        "colab": {
          "base_uri": "https://localhost:8080/"
        },
        "id": "cQ6m5dYHs4zJ",
        "outputId": "1cf627c2-5e34-4158-d8a8-3a53c7c3a269"
      },
      "source": [
        "train_data.Salary.value_counts()"
      ],
      "execution_count": 84,
      "outputs": [
        {
          "output_type": "execute_result",
          "data": {
            "text/plain": [
              "2    22653\n",
              "1     7508\n",
              "Name: Salary, dtype: int64"
            ]
          },
          "metadata": {},
          "execution_count": 84
        }
      ]
    },
    {
      "cell_type": "code",
      "metadata": {
        "id": "3Y7ST3Unkcg8"
      },
      "source": [
        "df= pd.concat([train_data,test_data],axis=0)"
      ],
      "execution_count": 85,
      "outputs": []
    },
    {
      "cell_type": "code",
      "metadata": {
        "colab": {
          "base_uri": "https://localhost:8080/",
          "height": 202
        },
        "id": "w6q01EpQlMnG",
        "outputId": "b2578097-76d4-4874-cd87-f1bc7e9d6e17"
      },
      "source": [
        "df.head()"
      ],
      "execution_count": 87,
      "outputs": [
        {
          "output_type": "execute_result",
          "data": {
            "text/html": [
              "<div>\n",
              "<style scoped>\n",
              "    .dataframe tbody tr th:only-of-type {\n",
              "        vertical-align: middle;\n",
              "    }\n",
              "\n",
              "    .dataframe tbody tr th {\n",
              "        vertical-align: top;\n",
              "    }\n",
              "\n",
              "    .dataframe thead th {\n",
              "        text-align: right;\n",
              "    }\n",
              "</style>\n",
              "<table border=\"1\" class=\"dataframe\">\n",
              "  <thead>\n",
              "    <tr style=\"text-align: right;\">\n",
              "      <th></th>\n",
              "      <th>age</th>\n",
              "      <th>workclass</th>\n",
              "      <th>education</th>\n",
              "      <th>educationno</th>\n",
              "      <th>maritalstatus</th>\n",
              "      <th>occupation</th>\n",
              "      <th>relationship</th>\n",
              "      <th>race</th>\n",
              "      <th>sex</th>\n",
              "      <th>capitalgain</th>\n",
              "      <th>capitalloss</th>\n",
              "      <th>hoursperweek</th>\n",
              "      <th>native</th>\n",
              "      <th>Salary</th>\n",
              "    </tr>\n",
              "  </thead>\n",
              "  <tbody>\n",
              "    <tr>\n",
              "      <th>0</th>\n",
              "      <td>39</td>\n",
              "      <td>5</td>\n",
              "      <td>9</td>\n",
              "      <td>13</td>\n",
              "      <td>4</td>\n",
              "      <td>0</td>\n",
              "      <td>1</td>\n",
              "      <td>4</td>\n",
              "      <td>1</td>\n",
              "      <td>2174</td>\n",
              "      <td>0</td>\n",
              "      <td>40</td>\n",
              "      <td>37</td>\n",
              "      <td>2</td>\n",
              "    </tr>\n",
              "    <tr>\n",
              "      <th>1</th>\n",
              "      <td>50</td>\n",
              "      <td>4</td>\n",
              "      <td>9</td>\n",
              "      <td>13</td>\n",
              "      <td>2</td>\n",
              "      <td>3</td>\n",
              "      <td>0</td>\n",
              "      <td>4</td>\n",
              "      <td>1</td>\n",
              "      <td>0</td>\n",
              "      <td>0</td>\n",
              "      <td>13</td>\n",
              "      <td>37</td>\n",
              "      <td>2</td>\n",
              "    </tr>\n",
              "    <tr>\n",
              "      <th>2</th>\n",
              "      <td>38</td>\n",
              "      <td>2</td>\n",
              "      <td>11</td>\n",
              "      <td>9</td>\n",
              "      <td>0</td>\n",
              "      <td>5</td>\n",
              "      <td>1</td>\n",
              "      <td>4</td>\n",
              "      <td>1</td>\n",
              "      <td>0</td>\n",
              "      <td>0</td>\n",
              "      <td>40</td>\n",
              "      <td>37</td>\n",
              "      <td>2</td>\n",
              "    </tr>\n",
              "    <tr>\n",
              "      <th>3</th>\n",
              "      <td>53</td>\n",
              "      <td>2</td>\n",
              "      <td>1</td>\n",
              "      <td>7</td>\n",
              "      <td>2</td>\n",
              "      <td>5</td>\n",
              "      <td>0</td>\n",
              "      <td>2</td>\n",
              "      <td>1</td>\n",
              "      <td>0</td>\n",
              "      <td>0</td>\n",
              "      <td>40</td>\n",
              "      <td>37</td>\n",
              "      <td>2</td>\n",
              "    </tr>\n",
              "    <tr>\n",
              "      <th>4</th>\n",
              "      <td>28</td>\n",
              "      <td>2</td>\n",
              "      <td>9</td>\n",
              "      <td>13</td>\n",
              "      <td>2</td>\n",
              "      <td>9</td>\n",
              "      <td>5</td>\n",
              "      <td>2</td>\n",
              "      <td>0</td>\n",
              "      <td>0</td>\n",
              "      <td>0</td>\n",
              "      <td>40</td>\n",
              "      <td>4</td>\n",
              "      <td>2</td>\n",
              "    </tr>\n",
              "  </tbody>\n",
              "</table>\n",
              "</div>"
            ],
            "text/plain": [
              "   age  workclass  education  ...  hoursperweek  native  Salary\n",
              "0   39          5          9  ...            40      37       2\n",
              "1   50          4          9  ...            13      37       2\n",
              "2   38          2         11  ...            40      37       2\n",
              "3   53          2          1  ...            40      37       2\n",
              "4   28          2          9  ...            40       4       2\n",
              "\n",
              "[5 rows x 14 columns]"
            ]
          },
          "metadata": {},
          "execution_count": 87
        }
      ]
    },
    {
      "cell_type": "code",
      "metadata": {
        "colab": {
          "base_uri": "https://localhost:8080/"
        },
        "id": "Mq4mvJm4lO9I",
        "outputId": "6f392277-c879-4700-f77a-cadde6f767db"
      },
      "source": [
        "df.shape"
      ],
      "execution_count": 88,
      "outputs": [
        {
          "output_type": "execute_result",
          "data": {
            "text/plain": [
              "(45221, 14)"
            ]
          },
          "metadata": {},
          "execution_count": 88
        }
      ]
    },
    {
      "cell_type": "code",
      "metadata": {
        "colab": {
          "base_uri": "https://localhost:8080/"
        },
        "id": "St9j5kKFlR8b",
        "outputId": "d94b1f4a-1a39-4f08-8229-b1e27ed3fe2f"
      },
      "source": [
        "df.isnull().sum()"
      ],
      "execution_count": 89,
      "outputs": [
        {
          "output_type": "execute_result",
          "data": {
            "text/plain": [
              "age              0\n",
              "workclass        0\n",
              "education        0\n",
              "educationno      0\n",
              "maritalstatus    0\n",
              "occupation       0\n",
              "relationship     0\n",
              "race             0\n",
              "sex              0\n",
              "capitalgain      0\n",
              "capitalloss      0\n",
              "hoursperweek     0\n",
              "native           0\n",
              "Salary           0\n",
              "dtype: int64"
            ]
          },
          "metadata": {},
          "execution_count": 89
        }
      ]
    },
    {
      "cell_type": "code",
      "metadata": {
        "colab": {
          "base_uri": "https://localhost:8080/",
          "height": 477
        },
        "id": "MomuW5rHlWJG",
        "outputId": "5acd8a45-3ddc-4dbb-9875-e69533a2c0ef"
      },
      "source": [
        "df.corr()"
      ],
      "execution_count": 90,
      "outputs": [
        {
          "output_type": "execute_result",
          "data": {
            "text/html": [
              "<div>\n",
              "<style scoped>\n",
              "    .dataframe tbody tr th:only-of-type {\n",
              "        vertical-align: middle;\n",
              "    }\n",
              "\n",
              "    .dataframe tbody tr th {\n",
              "        vertical-align: top;\n",
              "    }\n",
              "\n",
              "    .dataframe thead th {\n",
              "        text-align: right;\n",
              "    }\n",
              "</style>\n",
              "<table border=\"1\" class=\"dataframe\">\n",
              "  <thead>\n",
              "    <tr style=\"text-align: right;\">\n",
              "      <th></th>\n",
              "      <th>age</th>\n",
              "      <th>workclass</th>\n",
              "      <th>education</th>\n",
              "      <th>educationno</th>\n",
              "      <th>maritalstatus</th>\n",
              "      <th>occupation</th>\n",
              "      <th>relationship</th>\n",
              "      <th>race</th>\n",
              "      <th>sex</th>\n",
              "      <th>capitalgain</th>\n",
              "      <th>capitalloss</th>\n",
              "      <th>hoursperweek</th>\n",
              "      <th>native</th>\n",
              "      <th>Salary</th>\n",
              "    </tr>\n",
              "  </thead>\n",
              "  <tbody>\n",
              "    <tr>\n",
              "      <th>age</th>\n",
              "      <td>1.000000</td>\n",
              "      <td>0.085890</td>\n",
              "      <td>-0.003497</td>\n",
              "      <td>0.037623</td>\n",
              "      <td>-0.271616</td>\n",
              "      <td>-0.004474</td>\n",
              "      <td>-0.247561</td>\n",
              "      <td>0.023781</td>\n",
              "      <td>0.082040</td>\n",
              "      <td>0.079682</td>\n",
              "      <td>0.059426</td>\n",
              "      <td>0.101992</td>\n",
              "      <td>-0.002879</td>\n",
              "      <td>-0.237035</td>\n",
              "    </tr>\n",
              "    <tr>\n",
              "      <th>workclass</th>\n",
              "      <td>0.085890</td>\n",
              "      <td>1.000000</td>\n",
              "      <td>0.017852</td>\n",
              "      <td>0.040778</td>\n",
              "      <td>-0.033217</td>\n",
              "      <td>0.017508</td>\n",
              "      <td>-0.065048</td>\n",
              "      <td>0.049767</td>\n",
              "      <td>0.069633</td>\n",
              "      <td>0.034542</td>\n",
              "      <td>0.008261</td>\n",
              "      <td>0.051366</td>\n",
              "      <td>0.003889</td>\n",
              "      <td>-0.015657</td>\n",
              "    </tr>\n",
              "    <tr>\n",
              "      <th>education</th>\n",
              "      <td>-0.003497</td>\n",
              "      <td>0.017852</td>\n",
              "      <td>1.000000</td>\n",
              "      <td>0.347451</td>\n",
              "      <td>-0.041547</td>\n",
              "      <td>-0.033500</td>\n",
              "      <td>-0.013190</td>\n",
              "      <td>0.011446</td>\n",
              "      <td>-0.027531</td>\n",
              "      <td>0.029893</td>\n",
              "      <td>0.016740</td>\n",
              "      <td>0.060890</td>\n",
              "      <td>0.078800</td>\n",
              "      <td>-0.081214</td>\n",
              "    </tr>\n",
              "    <tr>\n",
              "      <th>educationno</th>\n",
              "      <td>0.037623</td>\n",
              "      <td>0.040778</td>\n",
              "      <td>0.347451</td>\n",
              "      <td>1.000000</td>\n",
              "      <td>-0.064986</td>\n",
              "      <td>0.089686</td>\n",
              "      <td>-0.088431</td>\n",
              "      <td>0.031655</td>\n",
              "      <td>0.003416</td>\n",
              "      <td>0.126907</td>\n",
              "      <td>0.081741</td>\n",
              "      <td>0.146206</td>\n",
              "      <td>0.094125</td>\n",
              "      <td>-0.332801</td>\n",
              "    </tr>\n",
              "    <tr>\n",
              "      <th>maritalstatus</th>\n",
              "      <td>-0.271616</td>\n",
              "      <td>-0.033217</td>\n",
              "      <td>-0.041547</td>\n",
              "      <td>-0.064986</td>\n",
              "      <td>1.000000</td>\n",
              "      <td>0.016399</td>\n",
              "      <td>0.180430</td>\n",
              "      <td>-0.070311</td>\n",
              "      <td>-0.119982</td>\n",
              "      <td>-0.042397</td>\n",
              "      <td>-0.034940</td>\n",
              "      <td>-0.183178</td>\n",
              "      <td>-0.022880</td>\n",
              "      <td>0.192701</td>\n",
              "    </tr>\n",
              "    <tr>\n",
              "      <th>occupation</th>\n",
              "      <td>-0.004474</td>\n",
              "      <td>0.017508</td>\n",
              "      <td>-0.033500</td>\n",
              "      <td>0.089686</td>\n",
              "      <td>0.016399</td>\n",
              "      <td>1.000000</td>\n",
              "      <td>-0.051644</td>\n",
              "      <td>-0.000026</td>\n",
              "      <td>0.056626</td>\n",
              "      <td>0.019435</td>\n",
              "      <td>0.015271</td>\n",
              "      <td>0.016160</td>\n",
              "      <td>-0.002628</td>\n",
              "      <td>-0.049788</td>\n",
              "    </tr>\n",
              "    <tr>\n",
              "      <th>relationship</th>\n",
              "      <td>-0.247561</td>\n",
              "      <td>-0.065048</td>\n",
              "      <td>-0.013190</td>\n",
              "      <td>-0.088431</td>\n",
              "      <td>0.180430</td>\n",
              "      <td>-0.051644</td>\n",
              "      <td>1.000000</td>\n",
              "      <td>-0.118588</td>\n",
              "      <td>-0.582977</td>\n",
              "      <td>-0.056817</td>\n",
              "      <td>-0.058485</td>\n",
              "      <td>-0.259194</td>\n",
              "      <td>-0.007016</td>\n",
              "      <td>0.253399</td>\n",
              "    </tr>\n",
              "    <tr>\n",
              "      <th>race</th>\n",
              "      <td>0.023781</td>\n",
              "      <td>0.049767</td>\n",
              "      <td>0.011446</td>\n",
              "      <td>0.031655</td>\n",
              "      <td>-0.070311</td>\n",
              "      <td>-0.000026</td>\n",
              "      <td>-0.118588</td>\n",
              "      <td>1.000000</td>\n",
              "      <td>0.088949</td>\n",
              "      <td>0.014079</td>\n",
              "      <td>0.020917</td>\n",
              "      <td>0.044739</td>\n",
              "      <td>0.126192</td>\n",
              "      <td>-0.070849</td>\n",
              "    </tr>\n",
              "    <tr>\n",
              "      <th>sex</th>\n",
              "      <td>0.082040</td>\n",
              "      <td>0.069633</td>\n",
              "      <td>-0.027531</td>\n",
              "      <td>0.003416</td>\n",
              "      <td>-0.119982</td>\n",
              "      <td>0.056626</td>\n",
              "      <td>-0.582977</td>\n",
              "      <td>0.088949</td>\n",
              "      <td>1.000000</td>\n",
              "      <td>0.047441</td>\n",
              "      <td>0.046639</td>\n",
              "      <td>0.231427</td>\n",
              "      <td>-0.004653</td>\n",
              "      <td>-0.215748</td>\n",
              "    </tr>\n",
              "    <tr>\n",
              "      <th>capitalgain</th>\n",
              "      <td>0.079682</td>\n",
              "      <td>0.034542</td>\n",
              "      <td>0.029893</td>\n",
              "      <td>0.126907</td>\n",
              "      <td>-0.042397</td>\n",
              "      <td>0.019435</td>\n",
              "      <td>-0.056817</td>\n",
              "      <td>0.014079</td>\n",
              "      <td>0.047441</td>\n",
              "      <td>1.000000</td>\n",
              "      <td>-0.032095</td>\n",
              "      <td>0.083880</td>\n",
              "      <td>0.007641</td>\n",
              "      <td>-0.221033</td>\n",
              "    </tr>\n",
              "    <tr>\n",
              "      <th>capitalloss</th>\n",
              "      <td>0.059426</td>\n",
              "      <td>0.008261</td>\n",
              "      <td>0.016740</td>\n",
              "      <td>0.081741</td>\n",
              "      <td>-0.034940</td>\n",
              "      <td>0.015271</td>\n",
              "      <td>-0.058485</td>\n",
              "      <td>0.020917</td>\n",
              "      <td>0.046639</td>\n",
              "      <td>-0.032095</td>\n",
              "      <td>1.000000</td>\n",
              "      <td>0.054220</td>\n",
              "      <td>0.006484</td>\n",
              "      <td>-0.148799</td>\n",
              "    </tr>\n",
              "    <tr>\n",
              "      <th>hoursperweek</th>\n",
              "      <td>0.101992</td>\n",
              "      <td>0.051366</td>\n",
              "      <td>0.060890</td>\n",
              "      <td>0.146206</td>\n",
              "      <td>-0.183178</td>\n",
              "      <td>0.016160</td>\n",
              "      <td>-0.259194</td>\n",
              "      <td>0.044739</td>\n",
              "      <td>0.231427</td>\n",
              "      <td>0.083880</td>\n",
              "      <td>0.054220</td>\n",
              "      <td>1.000000</td>\n",
              "      <td>0.007585</td>\n",
              "      <td>-0.227199</td>\n",
              "    </tr>\n",
              "    <tr>\n",
              "      <th>native</th>\n",
              "      <td>-0.002879</td>\n",
              "      <td>0.003889</td>\n",
              "      <td>0.078800</td>\n",
              "      <td>0.094125</td>\n",
              "      <td>-0.022880</td>\n",
              "      <td>-0.002628</td>\n",
              "      <td>-0.007016</td>\n",
              "      <td>0.126192</td>\n",
              "      <td>-0.004653</td>\n",
              "      <td>0.007641</td>\n",
              "      <td>0.006484</td>\n",
              "      <td>0.007585</td>\n",
              "      <td>1.000000</td>\n",
              "      <td>-0.020385</td>\n",
              "    </tr>\n",
              "    <tr>\n",
              "      <th>Salary</th>\n",
              "      <td>-0.237035</td>\n",
              "      <td>-0.015657</td>\n",
              "      <td>-0.081214</td>\n",
              "      <td>-0.332801</td>\n",
              "      <td>0.192701</td>\n",
              "      <td>-0.049788</td>\n",
              "      <td>0.253399</td>\n",
              "      <td>-0.070849</td>\n",
              "      <td>-0.215748</td>\n",
              "      <td>-0.221033</td>\n",
              "      <td>-0.148799</td>\n",
              "      <td>-0.227199</td>\n",
              "      <td>-0.020385</td>\n",
              "      <td>1.000000</td>\n",
              "    </tr>\n",
              "  </tbody>\n",
              "</table>\n",
              "</div>"
            ],
            "text/plain": [
              "                    age  workclass  education  ...  hoursperweek    native    Salary\n",
              "age            1.000000   0.085890  -0.003497  ...      0.101992 -0.002879 -0.237035\n",
              "workclass      0.085890   1.000000   0.017852  ...      0.051366  0.003889 -0.015657\n",
              "education     -0.003497   0.017852   1.000000  ...      0.060890  0.078800 -0.081214\n",
              "educationno    0.037623   0.040778   0.347451  ...      0.146206  0.094125 -0.332801\n",
              "maritalstatus -0.271616  -0.033217  -0.041547  ...     -0.183178 -0.022880  0.192701\n",
              "occupation    -0.004474   0.017508  -0.033500  ...      0.016160 -0.002628 -0.049788\n",
              "relationship  -0.247561  -0.065048  -0.013190  ...     -0.259194 -0.007016  0.253399\n",
              "race           0.023781   0.049767   0.011446  ...      0.044739  0.126192 -0.070849\n",
              "sex            0.082040   0.069633  -0.027531  ...      0.231427 -0.004653 -0.215748\n",
              "capitalgain    0.079682   0.034542   0.029893  ...      0.083880  0.007641 -0.221033\n",
              "capitalloss    0.059426   0.008261   0.016740  ...      0.054220  0.006484 -0.148799\n",
              "hoursperweek   0.101992   0.051366   0.060890  ...      1.000000  0.007585 -0.227199\n",
              "native        -0.002879   0.003889   0.078800  ...      0.007585  1.000000 -0.020385\n",
              "Salary        -0.237035  -0.015657  -0.081214  ...     -0.227199 -0.020385  1.000000\n",
              "\n",
              "[14 rows x 14 columns]"
            ]
          },
          "metadata": {},
          "execution_count": 90
        }
      ]
    },
    {
      "cell_type": "code",
      "metadata": {
        "colab": {
          "base_uri": "https://localhost:8080/"
        },
        "id": "ST-FMCz6laLO",
        "outputId": "b5ede0fa-c2ed-42ba-f383-a4d7fc3583e9"
      },
      "source": [
        "train_data.duplicated().sum()"
      ],
      "execution_count": 91,
      "outputs": [
        {
          "output_type": "execute_result",
          "data": {
            "text/plain": [
              "3258"
            ]
          },
          "metadata": {},
          "execution_count": 91
        }
      ]
    },
    {
      "cell_type": "code",
      "metadata": {
        "colab": {
          "base_uri": "https://localhost:8080/"
        },
        "id": "dQI7heQqmDrU",
        "outputId": "c4cb5d12-785f-4a0a-b1af-3f070a294e70"
      },
      "source": [
        "test_data.duplicated().sum()"
      ],
      "execution_count": 92,
      "outputs": [
        {
          "output_type": "execute_result",
          "data": {
            "text/plain": [
              "930"
            ]
          },
          "metadata": {},
          "execution_count": 92
        }
      ]
    },
    {
      "cell_type": "code",
      "metadata": {
        "colab": {
          "base_uri": "https://localhost:8080/"
        },
        "id": "Fd1xjeO8mH1B",
        "outputId": "f7df8262-bdf4-414c-fc32-39cfea426866"
      },
      "source": [
        "train_data.shape"
      ],
      "execution_count": 93,
      "outputs": [
        {
          "output_type": "execute_result",
          "data": {
            "text/plain": [
              "(30161, 14)"
            ]
          },
          "metadata": {},
          "execution_count": 93
        }
      ]
    },
    {
      "cell_type": "code",
      "metadata": {
        "id": "RQFhlQuimTZ3"
      },
      "source": [
        "train_data.drop_duplicates(inplace=True)"
      ],
      "execution_count": 94,
      "outputs": []
    },
    {
      "cell_type": "code",
      "metadata": {
        "id": "sHk2WEWhmfA8"
      },
      "source": [
        "test_data.drop_duplicates(inplace=True)"
      ],
      "execution_count": 95,
      "outputs": []
    },
    {
      "cell_type": "code",
      "metadata": {
        "colab": {
          "base_uri": "https://localhost:8080/"
        },
        "id": "7cNP1O5xmnWR",
        "outputId": "398b79d8-1956-4ba3-848c-c1f6ab6c1277"
      },
      "source": [
        "train_data.shape"
      ],
      "execution_count": 96,
      "outputs": [
        {
          "output_type": "execute_result",
          "data": {
            "text/plain": [
              "(26903, 14)"
            ]
          },
          "metadata": {},
          "execution_count": 96
        }
      ]
    },
    {
      "cell_type": "code",
      "metadata": {
        "colab": {
          "base_uri": "https://localhost:8080/"
        },
        "id": "xL4eum6ump-k",
        "outputId": "981a0ffc-8fba-4bff-d0e9-5aee8b68ebea"
      },
      "source": [
        "test_data.shape"
      ],
      "execution_count": 97,
      "outputs": [
        {
          "output_type": "execute_result",
          "data": {
            "text/plain": [
              "(14130, 14)"
            ]
          },
          "metadata": {},
          "execution_count": 97
        }
      ]
    },
    {
      "cell_type": "code",
      "metadata": {
        "colab": {
          "base_uri": "https://localhost:8080/"
        },
        "id": "9BwNrQD4muDe",
        "outputId": "539d4ff9-3caa-4602-b10c-38ae2e3184a7"
      },
      "source": [
        "df.duplicated().sum()"
      ],
      "execution_count": 98,
      "outputs": [
        {
          "output_type": "execute_result",
          "data": {
            "text/plain": [
              "5982"
            ]
          },
          "metadata": {},
          "execution_count": 98
        }
      ]
    },
    {
      "cell_type": "code",
      "metadata": {
        "id": "w-y3snPwnRNl"
      },
      "source": [
        "df.drop_duplicates(inplace=True)"
      ],
      "execution_count": 99,
      "outputs": []
    },
    {
      "cell_type": "code",
      "metadata": {
        "colab": {
          "base_uri": "https://localhost:8080/",
          "height": 728
        },
        "id": "PrmTHbVEnYSb",
        "outputId": "22e882fa-64e6-4ecb-f945-ff905a46f84a"
      },
      "source": [
        "plt.figure(figsize=(16,10))\n",
        "for i,col in enumerate(colum_data,1):\n",
        "    plt.subplot(4,2,i)\n",
        "    sns.countplot(data=df,y=col)\n",
        "    plt.subplot(4,4,i+2)\n",
        "    df[col].value_counts(normalize=True).plot.bar()\n",
        "    plt.ylabel(col)\n",
        "    plt.xlabel('% distribution per category')\n",
        "plt.tight_layout()\n",
        "plt.show()"
      ],
      "execution_count": 100,
      "outputs": [
        {
          "output_type": "display_data",
          "data": {
            "image/png": "[encoded data removed]",
            "text/plain": [
              "<Figure size 1152x720 with 11 Axes>"
            ]
          },
          "metadata": {
            "needs_background": "light"
          }
        }
      ]
    },
    {
      "cell_type": "code",
      "metadata": {
        "colab": {
          "base_uri": "https://localhost:8080/",
          "height": 1000
        },
        "id": "9y6avw6snxEG",
        "outputId": "54a2b2dd-8ad0-477e-9ea5-3564240d3622"
      },
      "source": [
        "import warnings\n",
        "warnings.filterwarnings('ignore')\n",
        "plt.figure(figsize=(18,40))\n",
        "for i ,col in enumerate(df.columns[0:-1]):\n",
        "  plt.subplot(8,4,i+1)\n",
        "  sns.boxplot(df[col])\n",
        "plt.show()"
      ],
      "execution_count": 101,
      "outputs": [
        {
          "output_type": "display_data",
          "data": {
            "image/png": "[encoded data removed]",
            "text/plain": [
              "<Figure size 1296x2880 with 13 Axes>"
            ]
          },
          "metadata": {
            "needs_background": "light"
          }
        }
      ]
    },
    {
      "cell_type": "markdown",
      "metadata": {
        "id": "Mrkkg5cFp6Dd"
      },
      "source": [
        "## SVM Model Building"
      ]
    },
    {
      "cell_type": "code",
      "metadata": {
        "id": "y46Z2o2roptW"
      },
      "source": [
        "X_train=train_data.iloc[:,:-1]\n",
        "y_train=train_data.iloc[:,-1]\n",
        "X_test=test_data.iloc[:,:-1]\n",
        "y_test=test_data.iloc[:,-1]"
      ],
      "execution_count": 102,
      "outputs": []
    },
    {
      "cell_type": "code",
      "metadata": {
        "colab": {
          "base_uri": "https://localhost:8080/"
        },
        "id": "-2LQyG9NqLv6",
        "outputId": "68ca90c2-450c-44e3-cf4c-4f2dfcbe6da6"
      },
      "source": [
        "X_train.shape"
      ],
      "execution_count": 103,
      "outputs": [
        {
          "output_type": "execute_result",
          "data": {
            "text/plain": [
              "(26903, 13)"
            ]
          },
          "metadata": {},
          "execution_count": 103
        }
      ]
    },
    {
      "cell_type": "code",
      "metadata": {
        "colab": {
          "base_uri": "https://localhost:8080/"
        },
        "id": "lw3KYvHxq36u",
        "outputId": "c8c24012-0cb3-4305-a5f6-eb469a9b2bfd"
      },
      "source": [
        "y_train.value_counts()"
      ],
      "execution_count": 104,
      "outputs": [
        {
          "output_type": "execute_result",
          "data": {
            "text/plain": [
              "2    20023\n",
              "1     6880\n",
              "Name: Salary, dtype: int64"
            ]
          },
          "metadata": {},
          "execution_count": 104
        }
      ]
    },
    {
      "cell_type": "code",
      "metadata": {
        "id": "yx--JDIgq79v"
      },
      "source": [
        "mn=MinMaxScaler()"
      ],
      "execution_count": 105,
      "outputs": []
    },
    {
      "cell_type": "code",
      "metadata": {
        "id": "6fQWnrJcrDvV"
      },
      "source": [
        "X_train=mn.fit_transform(X_train)\n",
        "X_test=mn.fit_transform(X_test)"
      ],
      "execution_count": 106,
      "outputs": []
    },
    {
      "cell_type": "markdown",
      "metadata": {
        "id": "GTqNIKF8rWS2"
      },
      "source": [
        "## 1. Using Linear"
      ]
    },
    {
      "cell_type": "code",
      "metadata": {
        "id": "BT6V2EBgrPRX"
      },
      "source": [
        "li_model=SVC(kernel=\"linear\")"
      ],
      "execution_count": 107,
      "outputs": []
    },
    {
      "cell_type": "code",
      "metadata": {
        "colab": {
          "base_uri": "https://localhost:8080/"
        },
        "id": "9Z2TkXMFrjMU",
        "outputId": "03a30c40-b356-4446-d7ae-f0a4f41d0f56"
      },
      "source": [
        "li_model.fit(X_train,y_train)"
      ],
      "execution_count": 108,
      "outputs": [
        {
          "output_type": "execute_result",
          "data": {
            "text/plain": [
              "SVC(C=1.0, break_ties=False, cache_size=200, class_weight=None, coef0=0.0,\n",
              "    decision_function_shape='ovr', degree=3, gamma='scale', kernel='linear',\n",
              "    max_iter=-1, probability=False, random_state=None, shrinking=True,\n",
              "    tol=0.001, verbose=False)"
            ]
          },
          "metadata": {},
          "execution_count": 108
        }
      ]
    },
    {
      "cell_type": "code",
      "metadata": {
        "id": "HQ1Cxd62rn3_"
      },
      "source": [
        "y_pred= li_model.predict(X_test)"
      ],
      "execution_count": 109,
      "outputs": []
    },
    {
      "cell_type": "code",
      "metadata": {
        "colab": {
          "base_uri": "https://localhost:8080/"
        },
        "id": "vlBx_m7utkZv",
        "outputId": "5727f2ce-502e-4f78-c604-f8c79958b3b8"
      },
      "source": [
        "accuracy_score(y_test,y_pred)"
      ],
      "execution_count": 110,
      "outputs": [
        {
          "output_type": "execute_result",
          "data": {
            "text/plain": [
              "0.8041047416843595"
            ]
          },
          "metadata": {},
          "execution_count": 110
        }
      ]
    },
    {
      "cell_type": "markdown",
      "metadata": {
        "id": "o04h9aebt35D"
      },
      "source": [
        "### 2. Using Poly"
      ]
    },
    {
      "cell_type": "code",
      "metadata": {
        "id": "kV_V0v2Htw_x"
      },
      "source": [
        "poly_model=SVC(kernel=\"poly\")\n",
        "poly_model.fit(X_train,y_train)\n",
        "y_pred= poly_model.predict(X_test)"
      ],
      "execution_count": 111,
      "outputs": []
    },
    {
      "cell_type": "code",
      "metadata": {
        "colab": {
          "base_uri": "https://localhost:8080/"
        },
        "id": "JEiA65sfuQV8",
        "outputId": "6c35b3bf-8619-4637-dd66-dc9bb693afc0"
      },
      "source": [
        "accuracy_score(y_test,y_pred)"
      ],
      "execution_count": 112,
      "outputs": [
        {
          "output_type": "execute_result",
          "data": {
            "text/plain": [
              "0.8421089879688606"
            ]
          },
          "metadata": {},
          "execution_count": 112
        }
      ]
    },
    {
      "cell_type": "markdown",
      "metadata": {
        "id": "zv_WIS1OuaSs"
      },
      "source": [
        "### 3. RBF"
      ]
    },
    {
      "cell_type": "code",
      "metadata": {
        "id": "o_VLZ8AauViH"
      },
      "source": [
        "rbf_model=SVC(kernel=\"rbf\")\n",
        "rbf_model.fit(X_train,y_train)\n",
        "y_pred= rbf_model.predict(X_test)"
      ],
      "execution_count": 113,
      "outputs": []
    },
    {
      "cell_type": "code",
      "metadata": {
        "colab": {
          "base_uri": "https://localhost:8080/"
        },
        "id": "F43Fasg8up1u",
        "outputId": "e98f64ef-72ef-43b8-a78e-a29a0c635899"
      },
      "source": [
        "accuracy_score(y_test,y_pred)"
      ],
      "execution_count": 114,
      "outputs": [
        {
          "output_type": "execute_result",
          "data": {
            "text/plain": [
              "0.8410474168435952"
            ]
          },
          "metadata": {},
          "execution_count": 114
        }
      ]
    },
    {
      "cell_type": "markdown",
      "metadata": {
        "id": "T88QGnHPu4V8"
      },
      "source": [
        "### 4. Sigmoid"
      ]
    },
    {
      "cell_type": "code",
      "metadata": {
        "id": "zWN2JkKQuznQ"
      },
      "source": [
        "sig_model=SVC(kernel=\"sigmoid\")\n",
        "sig_model.fit(X_train,y_train)\n",
        "y_pred= sig_model.predict(X_test)"
      ],
      "execution_count": 115,
      "outputs": []
    },
    {
      "cell_type": "code",
      "metadata": {
        "colab": {
          "base_uri": "https://localhost:8080/"
        },
        "id": "eAIAUSrBvIOe",
        "outputId": "8a8d8bc1-8880-4a23-a782-8c0fdc26011f"
      },
      "source": [
        "accuracy_score(y_test,y_pred)"
      ],
      "execution_count": 116,
      "outputs": [
        {
          "output_type": "execute_result",
          "data": {
            "text/plain": [
              "0.57310686482661"
            ]
          },
          "metadata": {},
          "execution_count": 116
        }
      ]
    },
    {
      "cell_type": "code",
      "metadata": {
        "id": "6G5WxndtvUgL"
      },
      "source": [
        "accs= [accuracy_score(y_test,li_model.predict(X_test)),accuracy_score(y_test,poly_model.predict(X_test)),accuracy_score(y_test,rbf_model.predict(X_test)),accuracy_score(y_test,y_pred)]"
      ],
      "execution_count": 131,
      "outputs": []
    },
    {
      "cell_type": "code",
      "metadata": {
        "id": "X4faZEsYv5lG"
      },
      "source": [
        "Results=pd.DataFrame({\"Model\":[\"Linear\",\"Poly\",'RBF','Sigmoid'],'Accuracy':accs})"
      ],
      "execution_count": 132,
      "outputs": []
    },
    {
      "cell_type": "code",
      "metadata": {
        "id": "ZuhzGrPYwiyz"
      },
      "source": [
        "Results['Accuracy']=Results['Accuracy'].apply(lambda x: str(round(x*100,2)) + \" %\")"
      ],
      "execution_count": 133,
      "outputs": []
    },
    {
      "cell_type": "code",
      "metadata": {
        "colab": {
          "base_uri": "https://localhost:8080/",
          "height": 171
        },
        "id": "_by_WBPDw6xs",
        "outputId": "720fb10b-6e74-480b-af6f-f5a4bd192f51"
      },
      "source": [
        "Results"
      ],
      "execution_count": 134,
      "outputs": [
        {
          "output_type": "execute_result",
          "data": {
            "text/html": [
              "<div>\n",
              "<style scoped>\n",
              "    .dataframe tbody tr th:only-of-type {\n",
              "        vertical-align: middle;\n",
              "    }\n",
              "\n",
              "    .dataframe tbody tr th {\n",
              "        vertical-align: top;\n",
              "    }\n",
              "\n",
              "    .dataframe thead th {\n",
              "        text-align: right;\n",
              "    }\n",
              "</style>\n",
              "<table border=\"1\" class=\"dataframe\">\n",
              "  <thead>\n",
              "    <tr style=\"text-align: right;\">\n",
              "      <th></th>\n",
              "      <th>Model</th>\n",
              "      <th>Accuracy</th>\n",
              "    </tr>\n",
              "  </thead>\n",
              "  <tbody>\n",
              "    <tr>\n",
              "      <th>0</th>\n",
              "      <td>Linear</td>\n",
              "      <td>80.41 %</td>\n",
              "    </tr>\n",
              "    <tr>\n",
              "      <th>1</th>\n",
              "      <td>Poly</td>\n",
              "      <td>84.21 %</td>\n",
              "    </tr>\n",
              "    <tr>\n",
              "      <th>2</th>\n",
              "      <td>RBF</td>\n",
              "      <td>84.1 %</td>\n",
              "    </tr>\n",
              "    <tr>\n",
              "      <th>3</th>\n",
              "      <td>Sigmoid</td>\n",
              "      <td>57.31 %</td>\n",
              "    </tr>\n",
              "  </tbody>\n",
              "</table>\n",
              "</div>"
            ],
            "text/plain": [
              "     Model Accuracy\n",
              "0   Linear  80.41 %\n",
              "1     Poly  84.21 %\n",
              "2      RBF   84.1 %\n",
              "3  Sigmoid  57.31 %"
            ]
          },
          "metadata": {},
          "execution_count": 134
        }
      ]
    },
    {
      "cell_type": "markdown",
      "metadata": {
        "id": "1bu8w5RExu0m"
      },
      "source": [
        "## Conclusion: Polynomial Model gave the most accuracy with 84.21%"
      ]
    }
  ]
}